{
  "cells": [
    {
      "cell_type": "markdown",
      "metadata": {},
      "source": [
        "\n# A demo of 1D interpolation\n"
      ]
    },
    {
      "cell_type": "code",
      "execution_count": null,
      "metadata": {
        "collapsed": false
      },
      "outputs": [],
      "source": [
        "# Generate data\nimport numpy as np\n\nrng = np.random.default_rng(27446968)\nmeasured_time = np.linspace(0, 2 * np.pi, 20)\nfunction = np.sin(measured_time)\nnoise = rng.normal(loc=0, scale=0.1, size=20)\nmeasurements = function + noise\n\n# Smooth the curve and interpolate at new times\nimport scipy as sp\n\nsmoothing_spline = sp.interpolate.make_smoothing_spline(measured_time, measurements)\ninterpolation_time = np.linspace(0, 2 * np.pi, 200)\nsmooth_results = smoothing_spline(interpolation_time)\n\n# Plot the data, the interpolant, and the original function\nimport matplotlib.pyplot as plt\n\nplt.figure(figsize=(6, 4))\nplt.plot(measured_time, measurements, \".\", ms=6, label=\"measurements\")\nplt.plot(interpolation_time, smooth_results, label=\"smoothing spline\")\nplt.plot(interpolation_time, np.sin(interpolation_time), \"--\", label=\"underlying curve\")\nplt.legend()\nplt.show()\n\n# Fit the data exactly\ninterp_spline = sp.interpolate.make_interp_spline(measured_time, function)\ninterp_results = interp_spline(interpolation_time)\n\n# Plot the data, the interpolant, and the original function\nplt.figure(figsize=(6, 4))\nplt.plot(measured_time, function, \".\", ms=6, label=\"measurements\")\nplt.plot(interpolation_time, interp_results, label=\"interpolating spline\")\nplt.plot(interpolation_time, np.sin(interpolation_time), \"--\", label=\"underlying curve\")\nplt.legend()\nplt.show()\n\n# Plot interpolant, its derivative, and its antiderivative\nplt.figure(figsize=(6, 4))\nt = interpolation_time\nplt.plot(t, interp_spline(t), label=\"spline\")\nplt.plot(t, interp_spline.derivative()(t), label=\"derivative\")\nplt.plot(t, interp_spline.antiderivative()(t) - 1, label=\"antiderivative\")\n\nplt.legend()\nplt.show()"
      ]
    }
  ],
  "metadata": {
    "kernelspec": {
      "display_name": "Python 3",
      "language": "python",
      "name": "python3"
    },
    "language_info": {
      "codemirror_mode": {
        "name": "ipython",
        "version": 3
      },
      "file_extension": ".py",
      "mimetype": "text/x-python",
      "name": "python",
      "nbconvert_exporter": "python",
      "pygments_lexer": "ipython3",
      "version": "3.12.11"
    }
  },
  "nbformat": 4,
  "nbformat_minor": 0
}